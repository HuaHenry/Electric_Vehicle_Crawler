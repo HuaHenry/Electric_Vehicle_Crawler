{
 "cells": [
  {
   "cell_type": "code",
   "execution_count": 1,
   "metadata": {},
   "outputs": [],
   "source": []
  },
  {
   "cell_type": "code",
   "execution_count": 2,
   "metadata": {},
   "outputs": [],
   "source": []
  },
  {
   "cell_type": "code",
   "execution_count": 8,
   "metadata": {},
   "outputs": [],
   "source": [
    "import re\n",
    "import numpy as np\n",
    "import pandas as pd\n",
    "from bs4 import BeautifulSoup\n",
    "from selenium import webdriver\n",
    "from tqdm import tqdm\n",
    "from selenium.webdriver.chrome.options import Options\n",
    "import time\n",
    "import random\n",
    "\n",
    "# 设置Chrome选项以避免被检测为爬虫\n",
    "chrome_options = Options()\n",
    "chrome_options.add_argument(\"--headless\")  # 无头模式\n",
    "chrome_options.add_argument(\"--disable-gpu\")\n",
    "chrome_options.add_argument(\"start-maximized\")\n",
    "chrome_options.add_argument(\"disable-infobars\")\n",
    "chrome_options.add_argument(\"--disable-extensions\")\n",
    "chrome_options.add_argument(\"--incognito\")\n",
    "\n",
    "# 设置User-Agent\n",
    "user_agent = \"Mozilla/5.0 (Windows NT 10.0; Win64; x64) AppleWebKit/537.36 (KHTML, like Gecko) Chrome/58.0.3029.110 Safari/537.3\"\n",
    "chrome_options.add_argument(f'user-agent={user_agent}')\n",
    "\n",
    "\n",
    "\n",
    "def get_url(url):\n",
    "    driver = webdriver.Chrome(options=chrome_options)\n",
    "    driver.get(url)  # 加载网页\n",
    "    # 随机延时，防止被反爬虫机制检测\n",
    "    time.sleep(random.uniform(3, 7))\n",
    "    # 等待加载完毕\n",
    "    driver.implicitly_wait(10)\n",
    "    # 获取网页信息\n",
    "    source = driver.page_source\n",
    "    driver.quit()\n",
    "    return source\n",
    "    \n"
   ]
  },
  {
   "cell_type": "code",
   "execution_count": 10,
   "metadata": {},
   "outputs": [],
   "source": [
    "# https://www.ultrasoundcases.info/cases\n",
    "html_url = \"https://www.ultrasoundcases.info/cases\"\n",
    "html = get_url(html_url)\n",
    "soup = BeautifulSoup(html, \"html.parser\")"
   ]
  },
  {
   "cell_type": "code",
   "execution_count": 20,
   "metadata": {},
   "outputs": [],
   "source": [
    "from pprint import pprint\n",
    "\n",
    "def get_body_part_url(\n",
    "        soup,\n",
    "        web_url=\"https://www.ultrasoundcases.info\"\n",
    "):\n",
    "    body_part_url = {} \n",
    "    for body_part in soup.find_all(\"a\", {\"data-type\": \"cat\"}):\n",
    "        cat_url = body_part.get(\"href\")\n",
    "        sub_url = []\n",
    "        for sub_part in body_part.find_next(\"ul\").find_all(\"a\", {\"data-type\": \"subcat\"}):\n",
    "            sub_url.append(web_url + sub_part.get(\"href\"))\n",
    "        body_part_url[web_url + cat_url] = sub_url\n",
    "    return body_part_url\n",
    "\n",
    "def get_subtype_page_url(\n",
    "        soup,\n",
    "        web_url=\"https://www.ultrasoundcases.info\"\n",
    "):\n",
    "    subtype_page = {}\n",
    "    for subtype in soup.find_all(\"div\", {\"data-type\": \"subsubcat\"}):\n",
    "        subtype_page[web_url + subtype.get(\"href\")] = subtype.get_text()\n",
    "    return subtype_page\n",
    "\n",
    "def get_subtype_page_url(\n",
    "        soup,\n",
    "        web_url=\"https://www.ultrasoundcases.info\"\n",
    "):\n",
    "    subtype_page = {}\n",
    "    for subtype in soup.find_all(\"div\", {\"data-type\": \"subsubcat\"}):\n",
    "        subtype_page[web_url + subtype.get(\"href\")] = subtype.get_text()\n",
    "    return subtype_page\n",
    "\n",
    "def get_case_url(\n",
    "        soup,\n",
    "        web_url=\"https://www.ultrasoundcases.info\"\n",
    "):\n",
    "    case_url = {}\n",
    "    for case in soup.find_all(\"a\", {\"data-fancybox\": \"gallery\"}):\n",
    "        case_url[web_url + case.get(\"href\")] = case.get(\"data-caption\")\n",
    "    return case_url\n",
    "\n"
   ]
  },
  {
   "cell_type": "code",
   "execution_count": 23,
   "metadata": {},
   "outputs": [
    {
     "name": "stderr",
     "output_type": "stream",
     "text": [
      "  0%|          | 0/10 [00:00<?, ?it/s]"
     ]
    },
    {
     "name": "stdout",
     "output_type": "stream",
     "text": [
      "https://www.ultrasoundcases.info/cases/abdomen-and-retroperitoneum/\n"
     ]
    },
    {
     "name": "stderr",
     "output_type": "stream",
     "text": []
    },
    {
     "name": "stdout",
     "output_type": "stream",
     "text": [
      "Loading https://www.ultrasoundcases.info/cases/abdomen-and-retroperitoneum/liver/\n"
     ]
    },
    {
     "name": "stderr",
     "output_type": "stream",
     "text": [
      "\n",
      "\u001b[A"
     ]
    }
   ],
   "source": [
    "import json\n",
    "from tqdm import tqdm\n",
    "med_data = {} # {body_part: {sub_part: {subtype: {case_url: case_name}}}}\n",
    "json.dump(med_data, open(\"med_data.json\", \"w\", encoding=\"utf-8\"))\n",
    "body_part_url = get_body_part_url(soup)\n",
    "for body_part, sub_part in tqdm(body_part_url.items()):\n",
    "    med_data[body_part] = {}\n",
    "    print(body_part)\n",
    "    for sub in tqdm(sub_part):\n",
    "        print(f'Loading {sub}')\n",
    "        subtype_page = get_subtype_page_url(BeautifulSoup(get_url(sub)))\n",
    "        med_data[body_part][sub] = {}\n",
    "        for subtype, subtype_name in tqdm(subtype_page.items()):\n",
    "            med_data[body_part][sub][subtype_name] = get_case_url(BeautifulSoup(get_url(subtype)))\n",
    "            json.dump(med_data, open(\"med_data.json\", \"w\", encoding=\"utf-8\"))\n"
   ]
  }
 ],
 "metadata": {
  "kernelspec": {
   "display_name": "ddpm",
   "language": "python",
   "name": "python3"
  },
  "language_info": {
   "codemirror_mode": {
    "name": "ipython",
    "version": 3
   },
   "file_extension": ".py",
   "mimetype": "text/x-python",
   "name": "python",
   "nbconvert_exporter": "python",
   "pygments_lexer": "ipython3",
   "version": "3.9.16"
  }
 },
 "nbformat": 4,
 "nbformat_minor": 2
}
