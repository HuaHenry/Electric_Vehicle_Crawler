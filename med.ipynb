{
 "cells": [
  {
   "cell_type": "code",
   "execution_count": 1,
   "metadata": {},
   "outputs": [],
   "source": [
    "import re\n",
    "import numpy as np\n",
    "import pandas as pd\n",
    "from bs4 import BeautifulSoup\n",
    "from selenium import webdriver\n",
    "from tqdm import tqdm\n",
    "from selenium.webdriver.chrome.options import Options\n",
    "import time\n",
    "import random\n",
    "\n",
    "from selenium.webdriver.common.keys import Keys\n",
    "from msedge.selenium_tools import Edge, EdgeOptions\n",
    "# 设置User-Agent\n",
    "user_agent = \"Mozilla/5.0 (Windows NT 10.0; Win64; x64) AppleWebKit/537.36 (KHTML, like Gecko) Chrome/58.0.3029.110 Safari/537.3\"\n",
    "options = EdgeOptions()\n",
    "options.use_chromium = True\n",
    "# options.add_argument(\"headless\")  # 静默模式\n",
    "options.add_argument(\"disable-gpu\")\n",
    "\n",
    "\n",
    "options.binary_location = r\"C:/Program Files (x86)/Microsoft/EdgeCore/125.0.2535.67/msedge.exe\"\n",
    "\n",
    "\n",
    "\n",
    "def get_url(url):\n",
    "    driver = Edge(options=options, executable_path=r\"E:/personal_project/Electric_Vehicle_Crawler/edgedriver_win64/msedgedriver.exe\")\n",
    "    driver.get(url)  # 加载网页\n",
    "    # 随机延时，防止被反爬虫机制检测\n",
    "    time.sleep(random.uniform(3, 7))\n",
    "    # 等待加载完毕\n",
    "    driver.implicitly_wait(5)\n",
    "    # 获取网页信息\n",
    "    source = driver.page_source\n",
    "    driver.quit()\n",
    "    return source\n"
   ]
  },
  {
   "cell_type": "code",
   "execution_count": 2,
   "metadata": {},
   "outputs": [],
   "source": [
    "from pprint import pprint\n",
    "\n",
    "def get_body_part_url(\n",
    "        soup,\n",
    "        web_url=\"https://www.ultrasoundcases.info\"\n",
    "):\n",
    "    body_part_url = {} \n",
    "    for body_part in soup.find_all(\"a\", {\"data-type\": \"cat\"}):\n",
    "        cat_url = body_part.get(\"href\")\n",
    "        sub_url = []\n",
    "        for sub_part in body_part.find_next(\"ul\").find_all(\"a\", {\"data-type\": \"subcat\"}):\n",
    "            sub_url.append(web_url + sub_part.get(\"href\"))\n",
    "        body_part_url[web_url + cat_url] = sub_url\n",
    "    return body_part_url\n",
    "\n",
    "def get_subtype_page_url(\n",
    "        soup,\n",
    "        web_url=\"https://www.ultrasoundcases.info\"\n",
    "):\n",
    "    subtype_page = {}\n",
    "    for subtype in soup.find_all(\"div\", {\"data-type\": \"subsubcat\"}):\n",
    "        subtype_page[web_url + subtype.get(\"href\")] = subtype.get_text()\n",
    "    return subtype_page\n",
    "\n",
    "def get_case_page_url(\n",
    "        soup,\n",
    "        web_url=\"https://www.ultrasoundcases.info\"\n",
    "):\n",
    "    case_page = {}\n",
    "    for case in soup.find_all(\"div\", {\"class\": \"candidate half-grid\"}):\n",
    "        case_page[web_url + case.find(\"a\", {\"class\": \"blank\"}).get(\"href\")] = case.find(\"span\").get_text()\n",
    "    return case_page\n",
    "\n",
    "def get_case_url(\n",
    "        soup,\n",
    "        web_url=\"https://www.ultrasoundcases.info\"\n",
    "):\n",
    "    case_url = {}\n",
    "    # img\n",
    "    for case in soup.find_all(\"a\", {\"data-fancybox\": \"gallery\"}):\n",
    "        case_url[web_url + case.get(\"href\")] = case.get(\"data-caption\")\n",
    "    # video: <source src=\"https://www.ultrasoundcases.info/clients/ultrasoundcases/videos/55092-Mijn_Film_1.mp4\" type=\"video/mp4\">\n",
    "    for case in soup.find_all(\"source\", {\"type\": \"video/mp4\"}):\n",
    "        case_url[case.get(\"src\")] = case.get(\"src\")\n",
    "    # case caption: <div class=\"info\">Nearly isoechoic focal nodular hyperplasia (FNH)</div>\n",
    "    case_caption = soup.find(\"div\", {\"class\": \"info\"})\n",
    "    caption = case_caption.get_text() if case_caption else None\n",
    "    return caption, case_url\n",
    "\n",
    "# soup = BeautifulSoup(get_url(\"https://www.ultrasoundcases.info/focal-nodular-hyperplasia-6893/\"))\n",
    "# get_case_url(soup)\n"
   ]
  },
  {
   "cell_type": "code",
   "execution_count": 3,
   "metadata": {},
   "outputs": [
    {
     "name": "stderr",
     "output_type": "stream",
     "text": [
      "C:\\Users\\Youcheng Li\\AppData\\Local\\Temp\\ipykernel_3300\\416278110.py:26: DeprecationWarning: Selenium Tools for Microsoft Edge is deprecated. Please upgrade to Selenium 4 which has built-in support for Microsoft Edge (Chromium): https://docs.microsoft.com/en-us/microsoft-edge/webdriver-chromium/#upgrading-from-selenium-3\n",
      "  driver = Edge(options=options, executable_path=r\"E:/personal_project/Electric_Vehicle_Crawler/edgedriver_win64/msedgedriver.exe\")\n",
      "  0%|          | 0/10 [00:00<?, ?it/s]"
     ]
    },
    {
     "name": "stdout",
     "output_type": "stream",
     "text": [
      "https://www.ultrasoundcases.info/cases/abdomen-and-retroperitoneum/\n"
     ]
    },
    {
     "name": "stderr",
     "output_type": "stream",
     "text": []
    },
    {
     "name": "stdout",
     "output_type": "stream",
     "text": [
      "Loading subpart https://www.ultrasoundcases.info/cases/abdomen-and-retroperitoneum/liver/\n"
     ]
    },
    {
     "name": "stderr",
     "output_type": "stream",
     "text": [
      "\n",
      "\u001b[A"
     ]
    },
    {
     "name": "stdout",
     "output_type": "stream",
     "text": [
      "Loading subtype https://www.ultrasoundcases.info/cases/abdomen-and-retroperitoneum/liver/focal-nodular-hyperplasia-and-hepatic-adenomas/\n"
     ]
    },
    {
     "name": "stderr",
     "output_type": "stream",
     "text": [
      "\n",
      "\n",
      "\u001b[A\u001b[A"
     ]
    },
    {
     "name": "stdout",
     "output_type": "stream",
     "text": [
      "Loading case https://www.ultrasoundcases.info/focal-nodular-hyperplasia-6893/\n"
     ]
    },
    {
     "name": "stderr",
     "output_type": "stream",
     "text": [
      "\n",
      "\n",
      "\u001b[A\u001b[A"
     ]
    },
    {
     "name": "stdout",
     "output_type": "stream",
     "text": [
      "Loaded case https://www.ultrasoundcases.info/focal-nodular-hyperplasia-6893/\n",
      "Loading case https://www.ultrasoundcases.info/focal-nodular-hyperplasia-5873/\n"
     ]
    }
   ],
   "source": [
    "import json\n",
    "from tqdm import tqdm\n",
    "med_data = {} # {body_part: {sub_part: {subtype: {case_url: case_name}}}}\n",
    "json.dump(med_data, open(\"med_data.json\", \"w\", encoding=\"utf-8\"))\n",
    "body_part_url = get_body_part_url(BeautifulSoup(get_url(\"https://www.ultrasoundcases.info/cases\")))\n",
    "for body_part, sub_part in tqdm(body_part_url.items()):\n",
    "    med_data[body_part] = {}\n",
    "    print(body_part)\n",
    "    for sub in tqdm(sub_part):\n",
    "        print(f'Loading subpart {sub}')\n",
    "        subtype_page = get_subtype_page_url(BeautifulSoup(get_url(sub)))\n",
    "        med_data[body_part][sub] = {}\n",
    "        json.dump(med_data, open(\"med_data.json\", \"w\", encoding=\"utf-8\"))\n",
    "        for subtype, subtype_name in tqdm(subtype_page.items()):\n",
    "            print(f'Loading subtype {subtype}')\n",
    "            case_page = get_case_page_url(BeautifulSoup(get_url(subtype)))\n",
    "            med_data[body_part][sub][subtype] = {}\n",
    "            json.dump(med_data, open(\"med_data.json\", \"w\", encoding=\"utf-8\"))\n",
    "            for case, case_name in tqdm(case_page.items()):\n",
    "                print(f'Loading case {case}')\n",
    "                caption, case_url = get_case_url(BeautifulSoup(get_url(case)))\n",
    "                med_data[body_part][sub][subtype][case] = {\"case_name\": case_name, \"caption\": caption, \"case_url\": case_url}\n",
    "                json.dump(med_data, open(\"med_data.json\", \"w\", encoding=\"utf-8\"))\n",
    "                time.sleep(random.uniform(3, 7))\n",
    "                print(f'Loaded case {case}')\n",
    "            print(f'Loaded subtype {subtype}')\n"
   ]
  }
 ],
 "metadata": {
  "kernelspec": {
   "display_name": "ddpm",
   "language": "python",
   "name": "python3"
  },
  "language_info": {
   "codemirror_mode": {
    "name": "ipython",
    "version": 3
   },
   "file_extension": ".py",
   "mimetype": "text/x-python",
   "name": "python",
   "nbconvert_exporter": "python",
   "pygments_lexer": "ipython3",
   "version": "3.9.17"
  }
 },
 "nbformat": 4,
 "nbformat_minor": 2
}
