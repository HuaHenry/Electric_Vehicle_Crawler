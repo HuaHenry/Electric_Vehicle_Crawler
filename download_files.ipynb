{
 "cells": [
  {
   "cell_type": "code",
   "execution_count": 12,
   "metadata": {},
   "outputs": [],
   "source": [
    "import re\n",
    "import numpy as np\n",
    "import pandas as pd\n",
    "from bs4 import BeautifulSoup\n",
    "from selenium import webdriver\n",
    "from tqdm import tqdm\n",
    "from selenium.webdriver.chrome.options import Options\n",
    "import time\n",
    "import random\n",
    "import os\n",
    "from selenium.webdriver.common.keys import Keys\n",
    "from msedge.selenium_tools import Edge, EdgeOptions\n",
    "import requests\n",
    "import shutil\n",
    "import json\n",
    "\n",
    "\n",
    "def get_video_from_url(video_url, save_path):\n",
    "    response = requests.get(video_url, stream=True)\n",
    "    with open(save_path, 'wb') as out_file:\n",
    "        shutil.copyfileobj(response.raw, out_file)\n",
    "    del response\n",
    "\n",
    "def get_image_from_url(image_url, save_path):\n",
    "    response = requests.get(image_url, stream=True)\n",
    "    with open(save_path, 'wb') as out_file:\n",
    "        shutil.copyfileobj(response.raw, out_file)\n",
    "    del response\n",
    "\n",
    "def get_file_from_url(file_url, save_root):\n",
    "    file_name = os.path.basename(file_url)\n",
    "    # 若失败则重试，最大重试次数为5\n",
    "    if 'mp4' in file_url:\n",
    "        for _ in range(5):\n",
    "            try:\n",
    "                get_video_from_url(\n",
    "                    file_url,\n",
    "                    os.path.join(save_root, file_name)\n",
    "                )\n",
    "                break\n",
    "            except:\n",
    "                print('retry')\n",
    "    else:\n",
    "        for _ in range(5):\n",
    "            try:\n",
    "                get_image_from_url(\n",
    "                    file_url,\n",
    "                    os.path.join(save_root, file_name)\n",
    "                )\n",
    "                break\n",
    "            except:\n",
    "                print('retry')"
   ]
  },
  {
   "cell_type": "code",
   "execution_count": 13,
   "metadata": {},
   "outputs": [
    {
     "name": "stderr",
     "output_type": "stream",
     "text": [
      "  0%|          | 0/8 [00:00<?, ?it/s]"
     ]
    },
    {
     "name": "stderr",
     "output_type": "stream",
     "text": [
      "100%|██████████| 12/12 [00:55<00:00,  4.60s/it]\n",
      "100%|██████████| 13/13 [02:08<00:00,  9.85s/it]\n",
      "100%|██████████| 3/3 [00:20<00:00,  6.87s/it]\n",
      "100%|██████████| 2/2 [00:21<00:00, 10.85s/it]\n",
      "100%|██████████| 1/1 [00:04<00:00,  4.81s/it]\n",
      "100%|██████████| 1/1 [00:12<00:00, 12.31s/it]\n",
      "100%|██████████| 3/3 [00:36<00:00, 12.16s/it]\n",
      "100%|██████████| 3/3 [00:25<00:00,  8.39s/it]\n",
      "100%|██████████| 8/8 [05:04<00:00, 38.05s/it]\n"
     ]
    }
   ],
   "source": [
    "med_data = json.load(open('med_data_breast.json'))\n",
    "us_data_file = 'ultrasoundcases_data.json'\n",
    "ultrasoundcases_data = json.load(open(us_data_file)) if os.path.exists(us_data_file) else {}\n",
    "download_root = 'download'\n",
    "os.makedirs(download_root, exist_ok=True)\n",
    "for body_part_url, sub_part_info in med_data.items():\n",
    "    if 'breast-and-axilla' not in body_part_url.lower(): continue\n",
    "    body_part_name = body_part_url.split('/')[-2]\n",
    "    os.makedirs(os.path.join(download_root, body_part_name), exist_ok=True)\n",
    "\n",
    "    if body_part_name not in ultrasoundcases_data: ultrasoundcases_data[body_part_name] = {}\n",
    "    for sub_url, sub_info in tqdm(sub_part_info.items()):\n",
    "        sub_name = sub_url.split('/')[-2]\n",
    "        os.makedirs(os.path.join(download_root, body_part_name, sub_name), exist_ok=True)\n",
    "\n",
    "        if sub_name not in ultrasoundcases_data[body_part_name]: ultrasoundcases_data[body_part_name][sub_name] = {}\n",
    "        for subtype_url, subtype_info in tqdm(sub_info.items()):\n",
    "            subtype_name = subtype_url.split('/')[-2]\n",
    "            os.makedirs(os.path.join(download_root, body_part_name, sub_name, subtype_name), exist_ok=True)\n",
    "\n",
    "            if subtype_name not in ultrasoundcases_data[body_part_name][sub_name]: ultrasoundcases_data[body_part_name][sub_name][subtype_name] = {}\n",
    "            json.dump(ultrasoundcases_data, open(us_data_file, 'w', encoding='utf-8'), indent=4, ensure_ascii=False)\n",
    "            for cases_url, case_info in subtype_info.items():\n",
    "                cases_name = cases_url.split('/')[-2].split('-')[-1]\n",
    "                os.makedirs(os.path.join(download_root, body_part_name, sub_name, subtype_name, cases_name), exist_ok=True)\n",
    "\n",
    "                if cases_name not in ultrasoundcases_data[body_part_name][sub_name][subtype_name]: ultrasoundcases_data[body_part_name][sub_name][subtype_name][cases_name] = {}\n",
    "                \n",
    "                caption = case_info['caption']\n",
    "                case_url = case_info['case_url']\n",
    "\n",
    "                ultrasoundcases_data[body_part_name][sub_name][subtype_name][cases_name]['caption'] = caption\n",
    "                if 'case_info' not in ultrasoundcases_data[body_part_name][sub_name][subtype_name][cases_name]:\n",
    "                    ultrasoundcases_data[body_part_name][sub_name][subtype_name][cases_name]['case_info'] = []\n",
    "                json.dump(ultrasoundcases_data, open(us_data_file, 'w', encoding='utf-8'), indent=4, ensure_ascii=False)\n",
    "                for url, case_caption in case_url.items():\n",
    "                    file_name = os.path.basename(url)\n",
    "                    save_path = os.path.join(download_root, body_part_name, sub_name, subtype_name, cases_name)\n",
    "                    \n",
    "                    save_file_path = os.path.join(save_path, file_name)\n",
    "\n",
    "                    ultrasoundcases_data[body_part_name][sub_name][subtype_name][cases_name]['case_info'].append({\n",
    "                        'ori_file': save_file_path,\n",
    "                        'url_file': url,\n",
    "                        'caption': case_caption,\n",
    "                        'file_type': 'video' if 'mp4' in url else 'image'\n",
    "                    })\n",
    "                    json.dump(ultrasoundcases_data, open(us_data_file, 'w', encoding='utf-8'), indent=4, ensure_ascii=False)\n",
    "                    if not os.path.exists(save_file_path):\n",
    "                        get_file_from_url(url, save_path)\n",
    "                    print(f\"Downloaded {save_file_path}\")\n",
    "\n",
    "json.dump(ultrasoundcases_data, open(us_data_file, 'w', encoding='utf-8'), indent=4, ensure_ascii=False)\n"
   ]
  },
  {
   "cell_type": "code",
   "execution_count": 14,
   "metadata": {},
   "outputs": [
    {
     "name": "stdout",
     "output_type": "stream",
     "text": [
      "Total files: 8787\n",
      "Total images: 8674\n",
      "Total videos: 113\n"
     ]
    }
   ],
   "source": [
    "# 统计有多少个文件\n",
    "total_files = 0\n",
    "total_images = 0\n",
    "total_videos = 0\n",
    "\n",
    "for body_part_name, sub_part_info in ultrasoundcases_data.items():\n",
    "    for sub_name, subtype_info in sub_part_info.items():\n",
    "        for subtype_name, cases_info in subtype_info.items():\n",
    "            for cases_name, case_info in cases_info.items():\n",
    "                for case in case_info['case_info']:\n",
    "                    total_files += 1\n",
    "                    if case['file_type'] == 'image':\n",
    "                        total_images += 1\n",
    "                    else:\n",
    "                        total_videos += 1  \n",
    "\n",
    "print(f\"Total files: {total_files}\")\n",
    "print(f\"Total images: {total_images}\")\n",
    "print(f\"Total videos: {total_videos}\")\n"
   ]
  }
 ],
 "metadata": {
  "kernelspec": {
   "display_name": "d",
   "language": "python",
   "name": "python3"
  },
  "language_info": {
   "codemirror_mode": {
    "name": "ipython",
    "version": 3
   },
   "file_extension": ".py",
   "mimetype": "text/x-python",
   "name": "python",
   "nbconvert_exporter": "python",
   "pygments_lexer": "ipython3",
   "version": "3.9.17"
  }
 },
 "nbformat": 4,
 "nbformat_minor": 2
}
